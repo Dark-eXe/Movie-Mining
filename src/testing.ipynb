{
 "cells": [
  {
   "cell_type": "markdown",
   "id": "2b07c0cf-6c6f-4cd7-bc97-e8c79c2e9530",
   "metadata": {},
   "source": [
    "# Get Data"
   ]
  },
  {
   "cell_type": "code",
   "execution_count": 41,
   "id": "86aaa0d5-c62b-446e-9e78-b046e1eafc9f",
   "metadata": {},
   "outputs": [],
   "source": [
    "import requests\n",
    "from bs4 import BeautifulSoup\n",
    "\n",
    "import pandas as pd\n",
    "import numpy as np"
   ]
  },
  {
   "cell_type": "code",
   "execution_count": null,
   "id": "a3e7efe5-a935-45ac-b9b0-c3639dbb7b9a",
   "metadata": {},
   "outputs": [],
   "source": [
    "url = \"https://editorial.rottentomatoes.com/guide/oscars-best-and-worst-best-pictures/\""
   ]
  },
  {
   "cell_type": "code",
   "execution_count": null,
   "id": "9330c9f4-9de1-43af-943a-990b50e88b3c",
   "metadata": {},
   "outputs": [],
   "source": [
    "response = requests.get(url)\n",
    "if response.status_code != 200:\n",
    "        raise Exception(\"URL could not be accessed\")"
   ]
  },
  {
   "cell_type": "code",
   "execution_count": null,
   "id": "8b136625-1fdc-47a1-84e6-3e080d83336b",
   "metadata": {},
   "outputs": [],
   "source": [
    "soup = BeautifulSoup(response.text, \"html.parser\")"
   ]
  },
  {
   "cell_type": "markdown",
   "id": "80e6a00b-bf8d-4340-aa95-65f14f38ba00",
   "metadata": {},
   "source": [
    "### d = {\\<show_title>: {\\<statistic>: \\<value>, ...}, ...}"
   ]
  },
  {
   "cell_type": "code",
   "execution_count": null,
   "id": "de0e5808-4081-458c-ab12-06ef4ce56f38",
   "metadata": {},
   "outputs": [],
   "source": [
    "l = []"
   ]
  },
  {
   "cell_type": "code",
   "execution_count": null,
   "id": "73fb7536-86bf-4cbe-b8bc-5f30472d4809",
   "metadata": {},
   "outputs": [],
   "source": [
    "for i in range(1, 97):\n",
    "    title_select = f\"#row-index-{i} > div.col-sm-18.col-full-xs.countdown-item-content > div.row.countdown-item-title-bar > div.col-sm-20.col-full-xs > div > div > h2 > a\"\n",
    "    title = soup.css.select(title_select)[0].text.strip()\n",
    "\n",
    "    year_select = f\"#row-index-{i} > div.col-sm-18.col-full-xs.countdown-item-content > div.row.countdown-item-title-bar > div.col-sm-20.col-full-xs > div > div > h2 > span.subtle.start-year\"\n",
    "    year = soup.css.select(year_select)[0].text.strip()\n",
    "\n",
    "    tomato_select = f\"#row-index-{i} > div.col-sm-18.col-full-xs.countdown-item-content > div.row.countdown-item-title-bar > div.col-sm-20.col-full-xs > div > div > h2 > span.tMeterScore\"\n",
    "    tomato = soup.css.select(tomato_select)[0].text.strip()\n",
    "\n",
    "    consensus_select = f\"#row-index-{i} > div.col-sm-18.col-full-xs.countdown-item-content > div.row.countdown-item-details > div > div.info.critics-consensus\"\n",
    "    consensus = soup.css.select(consensus_select)[0].text.strip()\n",
    "\n",
    "    synopsis_select = f\"#row-index-{i} > div.col-sm-18.col-full-xs.countdown-item-content > div.row.countdown-item-details > div > div.info.synopsis\"\n",
    "    synopsis = soup.css.select(synopsis_select)[0].text.strip()\n",
    "\n",
    "    cast_select = f\"#row-index-{i} > div.col-sm-18.col-full-xs.countdown-item-content > div.row.countdown-item-details > div > div.info.cast\"\n",
    "    cast = soup.css.select(cast_select)[0].text.strip()\n",
    "\n",
    "    director_select = f\"#row-index-{i} > div.col-sm-18.col-full-xs.countdown-item-content > div.row.countdown-item-details > div > div.info.director > a\"\n",
    "    director = soup.css.select(director_select)[0].text.strip()\n",
    "\n",
    "    data = {}\n",
    "    data[\"Title\"] = title\n",
    "    data[\"Year\"] = year\n",
    "    data[\"Rotten Tomatoes Score\"] = tomato\n",
    "    data[\"Critic Consensus\"] = consensus\n",
    "    data[\"Synopsis\"] = synopsis\n",
    "    data[\"Cast\"] = cast\n",
    "    data[\"Director\"] = director\n",
    "    l.append(data)"
   ]
  },
  {
   "cell_type": "code",
   "execution_count": null,
   "id": "f9f14226-24f6-4a7b-83de-5643a1bb07ed",
   "metadata": {},
   "outputs": [],
   "source": [
    "df = pd.DataFrame(l)\n",
    "df.to_csv('movies.csv', index=False, header=True)"
   ]
  },
  {
   "cell_type": "markdown",
   "id": "d1e60149-f096-483b-9ae6-f1683ca56e7a",
   "metadata": {},
   "source": [
    "# Clean Data"
   ]
  },
  {
   "cell_type": "code",
   "execution_count": null,
   "id": "be7fd36c-9269-4010-ae4e-083b0c56cbeb",
   "metadata": {},
   "outputs": [],
   "source": [
    "df = pd.read_csv('movies.csv')"
   ]
  },
  {
   "cell_type": "code",
   "execution_count": null,
   "id": "ffd2216f-f943-4879-bc50-4998196bf790",
   "metadata": {},
   "outputs": [],
   "source": [
    "df"
   ]
  },
  {
   "cell_type": "code",
   "execution_count": null,
   "id": "5357e439-d8a0-47c3-ae36-e24ce7bf939c",
   "metadata": {},
   "outputs": [],
   "source": [
    "def clean_year(y):\n",
    "    return y[1:5]\n",
    "\n",
    "def clean_rtscore(rts):\n",
    "    return int(rts[0:2])\n",
    "\n",
    "def clean_consensus(con):\n",
    "    return con[19:]\n",
    "\n",
    "def clean_synopsis(syn):\n",
    "    return syn[10:-7]\n",
    "\n",
    "def clean_cast(cast):\n",
    "    return cast[10:]"
   ]
  },
  {
   "cell_type": "code",
   "execution_count": null,
   "id": "efeaeaa9-4c35-4b93-867f-2c5b30902184",
   "metadata": {},
   "outputs": [],
   "source": [
    "df['Year'] = df['Year'].apply(clean_year)"
   ]
  },
  {
   "cell_type": "code",
   "execution_count": null,
   "id": "0fedd0c6-1817-438a-82d9-24becd882d3c",
   "metadata": {},
   "outputs": [],
   "source": [
    "df['Rotten Tomatoes Score (%)'] = df['Rotten Tomatoes Score'].apply(clean_rtscore)\n",
    "df = df.drop('Rotten Tomatoes Score', axis=1)"
   ]
  },
  {
   "cell_type": "code",
   "execution_count": null,
   "id": "29605ca2-6450-4715-a1a7-02322dc26eac",
   "metadata": {},
   "outputs": [],
   "source": [
    "df['Critic Consensus'] = df['Critic Consensus'].apply(clean_consensus)"
   ]
  },
  {
   "cell_type": "code",
   "execution_count": null,
   "id": "4c3be6cc-6a8a-4e9b-ba72-f4b3e6d5f55f",
   "metadata": {},
   "outputs": [],
   "source": [
    "df['Synopsis'] = df['Synopsis'].apply(clean_synopsis)"
   ]
  },
  {
   "cell_type": "code",
   "execution_count": null,
   "id": "a49dbf21-e976-43b4-9878-39745e054e85",
   "metadata": {},
   "outputs": [],
   "source": [
    "df['Cast'] = df['Cast'].apply(clean_cast)"
   ]
  },
  {
   "cell_type": "code",
   "execution_count": null,
   "id": "8e1cbd4e-9166-4f9c-9940-777f32697940",
   "metadata": {},
   "outputs": [],
   "source": [
    "df = df.set_index('Title')"
   ]
  },
  {
   "cell_type": "code",
   "execution_count": null,
   "id": "68a7c497-e643-4cc5-bcc0-8f3e7ab1abae",
   "metadata": {},
   "outputs": [],
   "source": [
    "df.to_csv('movies_cleaned.csv')"
   ]
  },
  {
   "cell_type": "markdown",
   "id": "ea7c4267-aae8-4a09-94ee-4c86040ba947",
   "metadata": {},
   "source": [
    "# Run Analysis"
   ]
  },
  {
   "cell_type": "code",
   "execution_count": 2,
   "id": "3c4c7f6b-8259-4141-8600-eb0ce4ec2af9",
   "metadata": {},
   "outputs": [],
   "source": [
    "df = pd.read_csv('movies_cleaned.csv')"
   ]
  },
  {
   "cell_type": "code",
   "execution_count": 3,
   "id": "3b57d6a2-5326-4a15-862a-fa7c22ed034d",
   "metadata": {},
   "outputs": [
    {
     "data": {
      "text/html": [
       "<div>\n",
       "<style scoped>\n",
       "    .dataframe tbody tr th:only-of-type {\n",
       "        vertical-align: middle;\n",
       "    }\n",
       "\n",
       "    .dataframe tbody tr th {\n",
       "        vertical-align: top;\n",
       "    }\n",
       "\n",
       "    .dataframe thead th {\n",
       "        text-align: right;\n",
       "    }\n",
       "</style>\n",
       "<table border=\"1\" class=\"dataframe\">\n",
       "  <thead>\n",
       "    <tr style=\"text-align: right;\">\n",
       "      <th></th>\n",
       "      <th>Title</th>\n",
       "      <th>Year</th>\n",
       "      <th>Critic Consensus</th>\n",
       "      <th>Synopsis</th>\n",
       "      <th>Cast</th>\n",
       "      <th>Director</th>\n",
       "      <th>Rotten Tomatoes Score (%)</th>\n",
       "    </tr>\n",
       "  </thead>\n",
       "  <tbody>\n",
       "    <tr>\n",
       "      <th>0</th>\n",
       "      <td>Parasite</td>\n",
       "      <td>2019</td>\n",
       "      <td>An urgent, brilliantly layered look at timely ...</td>\n",
       "      <td>Greed and class discrimination threaten the ne...</td>\n",
       "      <td>Song Kang-ho, Lee Sun-kyun, Jo Yeo-jeong, Choi...</td>\n",
       "      <td>Bong Joon Ho</td>\n",
       "      <td>99</td>\n",
       "    </tr>\n",
       "    <tr>\n",
       "      <th>1</th>\n",
       "      <td>Casablanca</td>\n",
       "      <td>1942</td>\n",
       "      <td>An undisputed masterpiece and perhaps Hollywoo...</td>\n",
       "      <td>Rick Blaine (Humphrey Bogart), who owns a nigh...</td>\n",
       "      <td>Humphrey Bogart, Ingrid Bergman, Paul Henreid,...</td>\n",
       "      <td>Michael Curtiz</td>\n",
       "      <td>99</td>\n",
       "    </tr>\n",
       "    <tr>\n",
       "      <th>2</th>\n",
       "      <td>All About Eve</td>\n",
       "      <td>1950</td>\n",
       "      <td>Smart, sophisticated, and devastatingly funny,...</td>\n",
       "      <td>Backstage story revolving around aspiring actr...</td>\n",
       "      <td>Bette Davis, Anne Baxter, Celeste Holm, George...</td>\n",
       "      <td>Joseph L. Mankiewicz</td>\n",
       "      <td>99</td>\n",
       "    </tr>\n",
       "    <tr>\n",
       "      <th>3</th>\n",
       "      <td>On the Waterfront</td>\n",
       "      <td>1954</td>\n",
       "      <td>With his electrifying performance in Elia Kaza...</td>\n",
       "      <td>Dockworker Terry Malloy (Marlon Brando) had be...</td>\n",
       "      <td>Marlon Brando, Eva Marie Saint, Karl Malden, L...</td>\n",
       "      <td>Elia Kazan</td>\n",
       "      <td>99</td>\n",
       "    </tr>\n",
       "    <tr>\n",
       "      <th>4</th>\n",
       "      <td>Moonlight</td>\n",
       "      <td>2016</td>\n",
       "      <td>Moonlight uses one man's story to offer a rema...</td>\n",
       "      <td>A look at three defining chapters in the life ...</td>\n",
       "      <td>Mahershala Ali, Alex R. Hibbert, Ashton Sander...</td>\n",
       "      <td>Barry Jenkins</td>\n",
       "      <td>98</td>\n",
       "    </tr>\n",
       "    <tr>\n",
       "      <th>...</th>\n",
       "      <td>...</td>\n",
       "      <td>...</td>\n",
       "      <td>...</td>\n",
       "      <td>...</td>\n",
       "      <td>...</td>\n",
       "      <td>...</td>\n",
       "      <td>...</td>\n",
       "    </tr>\n",
       "    <tr>\n",
       "      <th>91</th>\n",
       "      <td>Cavalcade</td>\n",
       "      <td>1933</td>\n",
       "      <td>Though solidly acted and pleasant to look at, ...</td>\n",
       "      <td>Upper-crust Londoners Robert and Jane Marryot ...</td>\n",
       "      <td>Diana Wynyard, Clive Brook, Una O'Connor, Herb...</td>\n",
       "      <td>Frank Lloyd</td>\n",
       "      <td>65</td>\n",
       "    </tr>\n",
       "    <tr>\n",
       "      <th>92</th>\n",
       "      <td>Out of Africa</td>\n",
       "      <td>1985</td>\n",
       "      <td>Though lensed with stunning cinematography and...</td>\n",
       "      <td>Initially set on being a dairy farmer, the ari...</td>\n",
       "      <td>Meryl Streep, Robert Redford, Klaus Maria Bran...</td>\n",
       "      <td>Sydney Pollack</td>\n",
       "      <td>63</td>\n",
       "    </tr>\n",
       "    <tr>\n",
       "      <th>93</th>\n",
       "      <td>Cimarron</td>\n",
       "      <td>1931</td>\n",
       "      <td>Cimarron is supported by a strong performance ...</td>\n",
       "      <td>In 1889, adventurous lawyer and newspaper edit...</td>\n",
       "      <td>Richard Dix, Irene Dunne, Estelle Taylor, Nanc...</td>\n",
       "      <td>Wesley Ruggles</td>\n",
       "      <td>52</td>\n",
       "    </tr>\n",
       "    <tr>\n",
       "      <th>94</th>\n",
       "      <td>The Greatest Show on Earth</td>\n",
       "      <td>1952</td>\n",
       "      <td>The Greatest Show on Earth is melodramatic, sh...</td>\n",
       "      <td>\"The Greatest Show on Earth\" is a dazzling spe...</td>\n",
       "      <td>Betty Hutton, Charlton Heston, Cornel Wilde, D...</td>\n",
       "      <td>Cecil B. DeMille</td>\n",
       "      <td>50</td>\n",
       "    </tr>\n",
       "    <tr>\n",
       "      <th>95</th>\n",
       "      <td>The Broadway Melody</td>\n",
       "      <td>1929</td>\n",
       "      <td>The Broadway Melody is interesting as an examp...</td>\n",
       "      <td>Vaudeville sisters \"Hank\" (Bessie Love) and Qu...</td>\n",
       "      <td>Bessie Love, Anita Page, Charles King, Jed Prouty</td>\n",
       "      <td>Harry Beaumont</td>\n",
       "      <td>40</td>\n",
       "    </tr>\n",
       "  </tbody>\n",
       "</table>\n",
       "<p>96 rows × 7 columns</p>\n",
       "</div>"
      ],
      "text/plain": [
       "                         Title  Year  \\\n",
       "0                     Parasite  2019   \n",
       "1                   Casablanca  1942   \n",
       "2                All About Eve  1950   \n",
       "3            On the Waterfront  1954   \n",
       "4                    Moonlight  2016   \n",
       "..                         ...   ...   \n",
       "91                   Cavalcade  1933   \n",
       "92               Out of Africa  1985   \n",
       "93                    Cimarron  1931   \n",
       "94  The Greatest Show on Earth  1952   \n",
       "95         The Broadway Melody  1929   \n",
       "\n",
       "                                     Critic Consensus  \\\n",
       "0   An urgent, brilliantly layered look at timely ...   \n",
       "1   An undisputed masterpiece and perhaps Hollywoo...   \n",
       "2   Smart, sophisticated, and devastatingly funny,...   \n",
       "3   With his electrifying performance in Elia Kaza...   \n",
       "4   Moonlight uses one man's story to offer a rema...   \n",
       "..                                                ...   \n",
       "91  Though solidly acted and pleasant to look at, ...   \n",
       "92  Though lensed with stunning cinematography and...   \n",
       "93  Cimarron is supported by a strong performance ...   \n",
       "94  The Greatest Show on Earth is melodramatic, sh...   \n",
       "95  The Broadway Melody is interesting as an examp...   \n",
       "\n",
       "                                             Synopsis  \\\n",
       "0   Greed and class discrimination threaten the ne...   \n",
       "1   Rick Blaine (Humphrey Bogart), who owns a nigh...   \n",
       "2   Backstage story revolving around aspiring actr...   \n",
       "3   Dockworker Terry Malloy (Marlon Brando) had be...   \n",
       "4   A look at three defining chapters in the life ...   \n",
       "..                                                ...   \n",
       "91  Upper-crust Londoners Robert and Jane Marryot ...   \n",
       "92  Initially set on being a dairy farmer, the ari...   \n",
       "93  In 1889, adventurous lawyer and newspaper edit...   \n",
       "94  \"The Greatest Show on Earth\" is a dazzling spe...   \n",
       "95  Vaudeville sisters \"Hank\" (Bessie Love) and Qu...   \n",
       "\n",
       "                                                 Cast              Director  \\\n",
       "0   Song Kang-ho, Lee Sun-kyun, Jo Yeo-jeong, Choi...          Bong Joon Ho   \n",
       "1   Humphrey Bogart, Ingrid Bergman, Paul Henreid,...        Michael Curtiz   \n",
       "2   Bette Davis, Anne Baxter, Celeste Holm, George...  Joseph L. Mankiewicz   \n",
       "3   Marlon Brando, Eva Marie Saint, Karl Malden, L...            Elia Kazan   \n",
       "4   Mahershala Ali, Alex R. Hibbert, Ashton Sander...         Barry Jenkins   \n",
       "..                                                ...                   ...   \n",
       "91  Diana Wynyard, Clive Brook, Una O'Connor, Herb...           Frank Lloyd   \n",
       "92  Meryl Streep, Robert Redford, Klaus Maria Bran...        Sydney Pollack   \n",
       "93  Richard Dix, Irene Dunne, Estelle Taylor, Nanc...        Wesley Ruggles   \n",
       "94  Betty Hutton, Charlton Heston, Cornel Wilde, D...      Cecil B. DeMille   \n",
       "95  Bessie Love, Anita Page, Charles King, Jed Prouty        Harry Beaumont   \n",
       "\n",
       "    Rotten Tomatoes Score (%)  \n",
       "0                          99  \n",
       "1                          99  \n",
       "2                          99  \n",
       "3                          99  \n",
       "4                          98  \n",
       "..                        ...  \n",
       "91                         65  \n",
       "92                         63  \n",
       "93                         52  \n",
       "94                         50  \n",
       "95                         40  \n",
       "\n",
       "[96 rows x 7 columns]"
      ]
     },
     "execution_count": 3,
     "metadata": {},
     "output_type": "execute_result"
    }
   ],
   "source": [
    "df"
   ]
  },
  {
   "cell_type": "markdown",
   "id": "0f90d040-4e9d-4534-b160-a83b09ab0bf7",
   "metadata": {},
   "source": [
    "Ideas:<br>\n",
    "- Create sets of directors and cast members and point them to an avg Rotten Tomatoes Score.<br>\n",
    "- Correlation Analysis between Year and Rotten Tomatoes Score<br>\n",
    "- (maybe) Compare sentiment analysis score of Critic Consensus and Synopsis to Rotten Tomatoes Score"
   ]
  },
  {
   "cell_type": "code",
   "execution_count": 4,
   "id": "e674d394-ef20-4375-9124-b21835d10508",
   "metadata": {},
   "outputs": [],
   "source": [
    "avg_rt_director = {}\n",
    "for director in set(df[\"Director\"]):\n",
    "    avg_rt_director[director] = None"
   ]
  },
  {
   "cell_type": "code",
   "execution_count": 5,
   "id": "a4449355-b466-4d41-a2ec-3a38634217c5",
   "metadata": {},
   "outputs": [],
   "source": [
    "d_rt = df.loc[:, [\"Director\", \"Rotten Tomatoes Score (%)\"]]"
   ]
  },
  {
   "cell_type": "code",
   "execution_count": 6,
   "id": "bd6c9c53-aacf-4a4b-b794-b206b1eaad34",
   "metadata": {},
   "outputs": [],
   "source": [
    "for i in range(len(d_rt)):\n",
    "    director = d_rt.iloc[i]['Director']\n",
    "    score = d_rt.iloc[i]['Rotten Tomatoes Score (%)']\n",
    "    if not avg_rt_director[director]:\n",
    "        avg_rt_director[director] = [score]\n",
    "    else:\n",
    "        avg_rt_director[director].append(score)"
   ]
  },
  {
   "cell_type": "code",
   "execution_count": 7,
   "id": "4497cb7c-4238-4c0b-a1ad-888040c2dc0f",
   "metadata": {},
   "outputs": [],
   "source": [
    "for director in avg_rt_director.keys():\n",
    "    avg_rt_director[director] = np.average(avg_rt_director[director])"
   ]
  },
  {
   "cell_type": "code",
   "execution_count": 8,
   "id": "bcce20c7-7041-4e61-ac58-947f301b57c4",
   "metadata": {},
   "outputs": [],
   "source": [
    "avg_rt_cast = {}\n",
    "for i in range(96):\n",
    "    for cast in df[\"Cast\"].iloc[i].split(\", \"):\n",
    "        avg_rt_cast[cast] = None"
   ]
  },
  {
   "cell_type": "code",
   "execution_count": 9,
   "id": "97d89ee3-ffbb-49ca-b27b-5c72becae864",
   "metadata": {},
   "outputs": [],
   "source": [
    "c_rt = df.loc[:, [\"Cast\", \"Rotten Tomatoes Score (%)\"]]"
   ]
  },
  {
   "cell_type": "code",
   "execution_count": 10,
   "id": "01f7cb53-32f3-4f57-9524-1ae13deeb484",
   "metadata": {},
   "outputs": [],
   "source": [
    "for i in range(96):\n",
    "    for cast in c_rt.iloc[i][\"Cast\"].split(\", \"):\n",
    "        if not avg_rt_cast[cast]:\n",
    "            avg_rt_cast[cast] = [c_rt.iloc[i][\"Rotten Tomatoes Score (%)\"]]\n",
    "        else:\n",
    "            avg_rt_cast[cast].append(c_rt.iloc[i][\"Rotten Tomatoes Score (%)\"])"
   ]
  },
  {
   "cell_type": "code",
   "execution_count": 11,
   "id": "a02df188-a8c4-4af0-95ca-045e5605ddec",
   "metadata": {},
   "outputs": [],
   "source": [
    "for cast in avg_rt_cast.keys():\n",
    "    avg_rt_cast[cast] = np.average(avg_rt_cast[cast])"
   ]
  },
  {
   "cell_type": "code",
   "execution_count": 12,
   "id": "debb7b86-94e1-48bb-b5cb-2765b1e18c6d",
   "metadata": {},
   "outputs": [],
   "source": [
    "year_score = df[[\"Year\", \"Rotten Tomatoes Score (%)\"]]"
   ]
  },
  {
   "cell_type": "code",
   "execution_count": 13,
   "id": "352e938d-02b3-4d68-bfe0-14dd7a149f8f",
   "metadata": {},
   "outputs": [],
   "source": [
    "years = np.arange(1927, 2023)"
   ]
  },
  {
   "cell_type": "code",
   "execution_count": 14,
   "id": "7f1a8887-8eff-4bca-9fd1-edc7c867af49",
   "metadata": {},
   "outputs": [],
   "source": [
    "year_score_dict = {}\n",
    "for y in years:\n",
    "    year_score_dict[y] = [0.0]"
   ]
  },
  {
   "cell_type": "code",
   "execution_count": 15,
   "id": "4bb0f7b9-91eb-4b67-a8de-aa9e8b9ec873",
   "metadata": {},
   "outputs": [],
   "source": [
    "for i in range(96):\n",
    "    y = year_score.iloc[i][\"Year\"]\n",
    "    s = year_score.iloc[i][\"Rotten Tomatoes Score (%)\"]\n",
    "    if year_score_dict[y] == [0.0]:\n",
    "        year_score_dict[y] = [s]\n",
    "    else:\n",
    "        year_score_dict[y].append(s)"
   ]
  },
  {
   "cell_type": "code",
   "execution_count": 16,
   "id": "e3ba8939-7ca0-4163-9de7-11ed70d2ca12",
   "metadata": {},
   "outputs": [],
   "source": [
    "for y in years:\n",
    "    if len(year_score_dict[y]) == 2:\n",
    "        year_score_dict[y+1] = [year_score_dict[y][1]]\n",
    "        year_score_dict[y] = year_score_dict[y][0]\n",
    "    else:\n",
    "        year_score_dict[y] = year_score_dict[y][0]"
   ]
  },
  {
   "cell_type": "code",
   "execution_count": 17,
   "id": "c78b47d5-dd74-4b3f-8f7b-684dccd29176",
   "metadata": {},
   "outputs": [],
   "source": [
    "x = []\n",
    "y = []\n",
    "for k, v in year_score_dict.items():\n",
    "    x.append(k)\n",
    "    y.append(v)"
   ]
  },
  {
   "cell_type": "code",
   "execution_count": 18,
   "id": "d05de664-090f-4fde-889f-c78280dabf0e",
   "metadata": {},
   "outputs": [],
   "source": [
    "with open(\"year_score_x.txt\", \"w\") as f:\n",
    "    for point in x:\n",
    "        f.write(str(point) + '\\n')\n",
    "with open(\"year_score_y.txt\", \"w\") as f:\n",
    "    for point in y:\n",
    "        f.write(str(point) + '\\n')"
   ]
  },
  {
   "cell_type": "code",
   "execution_count": 19,
   "id": "e0d725e4-1598-462c-8d71-b616fedfecfb",
   "metadata": {},
   "outputs": [],
   "source": [
    "r = np.corrcoef(x,y)[0][1]"
   ]
  },
  {
   "cell_type": "code",
   "execution_count": 20,
   "id": "c3bddca5-a1f9-4833-bd73-5dc9573bab82",
   "metadata": {},
   "outputs": [],
   "source": [
    "with open(\"year_score_correlation.txt\", \"w\") as f:\n",
    "    f.write(str(r))"
   ]
  },
  {
   "cell_type": "code",
   "execution_count": 21,
   "id": "c89681c1-309a-4a51-ba56-b8e729e92b3a",
   "metadata": {},
   "outputs": [],
   "source": [
    "pd.DataFrame.from_dict(avg_rt_director, orient=\"index\", columns=[\"Score\"]).to_csv(\"avg_rt_director.csv\")"
   ]
  },
  {
   "cell_type": "code",
   "execution_count": 22,
   "id": "013ee87d-ff7c-48c4-a0ff-2efa0ccd8141",
   "metadata": {},
   "outputs": [],
   "source": [
    "pd.DataFrame.from_dict(avg_rt_cast, orient=\"index\", columns=[\"Score\"]).to_csv(\"avg_rt_cast.csv\")"
   ]
  },
  {
   "cell_type": "markdown",
   "id": "cdd8ef92-2838-4819-a5b8-d377b4f42f41",
   "metadata": {},
   "source": [
    "# Visualize Results"
   ]
  },
  {
   "cell_type": "code",
   "execution_count": 46,
   "id": "eb375d30-636c-4976-b41d-9995deb2ca24",
   "metadata": {},
   "outputs": [],
   "source": [
    "import matplotlib.pyplot as plt\n",
    "import matplotlib\n",
    "import seaborn as sns\n",
    "\n",
    "matplotlib.rc(\"font\", family=\"serif\")\n",
    "plt.style.use(\"dark_background\")"
   ]
  },
  {
   "cell_type": "code",
   "execution_count": 24,
   "id": "cc5ad8e2-96b8-4319-872e-7bb9068f435f",
   "metadata": {},
   "outputs": [],
   "source": [
    "# get data\n",
    "avg_rt_director = pd.read_csv(\"avg_rt_director.csv\")\n",
    "avg_rt_cast = pd.read_csv(\"avg_rt_cast.csv\")\n",
    "with open(\"year_score_correlation.txt\") as f:\n",
    "    data = float(f.read())\n",
    "x, y = [], []\n",
    "with open(\"year_score_x.txt\") as f:\n",
    "    for line in f:\n",
    "        x.append(int(line))\n",
    "with open(\"year_score_y.txt\") as f:\n",
    "    for line in f:\n",
    "        y.append(int(line))"
   ]
  },
  {
   "cell_type": "code",
   "execution_count": 25,
   "id": "6ae09c66-3c58-450c-8833-ce61ebbdf413",
   "metadata": {},
   "outputs": [],
   "source": [
    "m, b = np.polyfit(x, y, 1)\n",
    "x_graph = np.linspace(1927, 2023, num=100)"
   ]
  },
  {
   "cell_type": "code",
   "execution_count": 80,
   "id": "4c50bf10-55c0-4033-b384-7b7a327e72da",
   "metadata": {},
   "outputs": [
    {
     "data": {
      "image/png": "[encoded data removed]",
      "text/plain": [
       "<Figure size 640x480 with 1 Axes>"
      ]
     },
     "metadata": {},
     "output_type": "display_data"
    }
   ],
   "source": [
    "plt.title('RT Score vs Year')\n",
    "plt.scatter(x, y)\n",
    "plt.plot(x_graph, m*x_graph+b, color=\"C1\", label=f\"r = {data}\")\n",
    "plt.xlabel(\"Year\")\n",
    "plt.ylabel(\"RT Score\")\n",
    "plt.legend()\n",
    "plt.savefig(\"year_score_correlation.png\")\n",
    "plt.show()"
   ]
  },
  {
   "cell_type": "code",
   "execution_count": 78,
   "id": "d00e58c6-2797-4a4b-93bb-4e9676ad51b9",
   "metadata": {},
   "outputs": [
    {
     "name": "stdout",
     "output_type": "stream",
     "text": [
      "Top 10 Directors (Avg Rt Score)\n",
      "- Michael Curtiz (99.0)\n",
      "- Bong Joon Ho (99.0)\n",
      "- Joseph L. Mankiewicz (99.0)\n",
      "- Steven Spielberg (98.0)\n",
      "- Alfred Hitchcock (98.0)\n",
      "- F.W. Murnau (98.0)\n",
      "- Barry Jenkins (98.0)\n",
      "- Lewis Milestone (98.0)\n",
      "- Kathryn Bigelow (97.0)\n",
      "- Woody Allen (97.0)\n"
     ]
    }
   ],
   "source": [
    "rt_d_sorted = avg_rt_director.sort_values(by=[\"Score\"], ascending=False).head(n=10).reset_index(drop=True)\n",
    "rt_d_sorted.to_csv('rt_d_sorted.csv')\n",
    "print(\"Top 10 Directors (Avg Rt Score)\")\n",
    "for v in rt_d_sorted.iloc[:].values:\n",
    "    print(f\"- {v[0]} ({v[1]})\")"
   ]
  },
  {
   "cell_type": "code",
   "execution_count": 79,
   "id": "756185f5-32c2-4815-8dce-68652fdfcd13",
   "metadata": {},
   "outputs": [
    {
     "name": "stdout",
     "output_type": "stream",
     "text": [
      "Top 25 Actors (Avg Rt Score)\n",
      "- Song Kang-ho (99.0)\n",
      "- Claude Rains (99.0)\n",
      "- Lee J. Cobb (99.0)\n",
      "- Eva Marie Saint (99.0)\n",
      "- Anne Baxter (99.0)\n",
      "- Bette Davis (99.0)\n",
      "- Lee Sun-kyun (99.0)\n",
      "- Paul Henreid (99.0)\n",
      "- Ingrid Bergman (99.0)\n",
      "- Choi Woo-sik (99.0)\n",
      "- Jo Yeo-jeong (99.0)\n",
      "- Humphrey Bogart (99.0)\n",
      "- George Sanders (98.5)\n",
      "- Bodil Rosing (98.0)\n",
      "- Margaret Livingston (98.0)\n",
      "- Walter Connolly (98.0)\n",
      "- Janet Gaynor (98.0)\n",
      "- George O'Brien (98.0)\n",
      "- John Wray (98.0)\n",
      "- Louis Wolheim (98.0)\n",
      "- Lew Ayres (98.0)\n",
      "- Judith Anderson (98.0)\n",
      "- Joan Fontaine (98.0)\n",
      "- Roscoe Karns (98.0)\n",
      "- Raymond Griffith (98.0)\n"
     ]
    }
   ],
   "source": [
    "rt_c_sorted = avg_rt_cast.sort_values(by=[\"Score\"], ascending=False).head(n=25).reset_index(drop=True)\n",
    "rt_c_sorted.to_csv('rt_c_sorted.csv')\n",
    "print(\"Top 25 Actors (Avg Rt Score)\")\n",
    "for v in rt_c_sorted.iloc[:].values:\n",
    "    print(f\"- {v[0]} ({v[1]})\")"
   ]
  },
  {
   "cell_type": "code",
   "execution_count": 107,
   "id": "b46f1c81-26ab-459e-b43a-668223f019bf",
   "metadata": {},
   "outputs": [
    {
     "data": {
      "image/png": "[encoded data removed]",
      "text/plain": [
       "<Figure size 640x480 with 1 Axes>"
      ]
     },
     "metadata": {},
     "output_type": "display_data"
    }
   ],
   "source": [
    "sns.histplot(x=\"Score\", data=avg_rt_director, kde=True, color=\"C2\", edgecolor=\"black\")\n",
    "plt.title(\"Director RT Score Distribution\")\n",
    "plt.xlabel(\"Avg RT Score\")\n",
    "plt.savefig(\"rt_director_dist.png\")\n",
    "plt.show()"
   ]
  },
  {
   "cell_type": "code",
   "execution_count": 108,
   "id": "992ec754-00d0-4379-b3f6-c7ad18cdd951",
   "metadata": {},
   "outputs": [
    {
     "data": {
      "image/png": "[encoded data removed]",
      "text/plain": [
       "<Figure size 640x480 with 1 Axes>"
      ]
     },
     "metadata": {},
     "output_type": "display_data"
    }
   ],
   "source": [
    "sns.histplot(x=\"Score\", data=avg_rt_cast, kde=True, color=\"C3\", edgecolor=\"black\")\n",
    "plt.title(\"Cast RT Score Distribution\")\n",
    "plt.xlabel(\"Avg RT Score\")\n",
    "plt.savefig(\"rt_cast_dist.png\")\n",
    "plt.show()"
   ]
  },
  {
   "cell_type": "code",
   "execution_count": null,
   "id": "9b07f99c-ba7a-4b9a-81e4-db220d42e3fa",
   "metadata": {},
   "outputs": [],
   "source": []
  }
 ],
 "metadata": {
  "kernelspec": {
   "display_name": "Python 3 (ipykernel)",
   "language": "python",
   "name": "python3"
  },
  "language_info": {
   "codemirror_mode": {
    "name": "ipython",
    "version": 3
   },
   "file_extension": ".py",
   "mimetype": "text/x-python",
   "name": "python",
   "nbconvert_exporter": "python",
   "pygments_lexer": "ipython3",
   "version": "3.11.4"
  }
 },
 "nbformat": 4,
 "nbformat_minor": 5
}
